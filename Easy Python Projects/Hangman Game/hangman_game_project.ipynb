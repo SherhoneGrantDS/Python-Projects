{
 "cells": [
  {
   "cell_type": "markdown",
   "metadata": {},
   "source": [
    "# Hangman Game\n",
    "\n",
    "Welcome to the Hangman Game! 𓍯 🧍‍♂️ 🎉\n",
    "\n",
    "Hangman is a classic word-guessing game where you try to discover a hidden word letter by letter. Here's a brief overview of the game and how to play:\n",
    "\n",
    "## How to Play\n",
    "\n",
    "1. **Start:** Run the code cell below to initiate the game.\n",
    "2. **Guessing:** Enter a letter when prompted to guess the hidden word.\n",
    "3. **Feedback:** Receive feedback on your guess - whether it's correct or not.\n",
    "4. **Chances:** You have a limited number of chances to guess the word.\n",
    "5. **Win/Lose:** Try to guess the word before running out of chances!\n",
    "\n"
   ]
  },
  {
   "cell_type": "markdown",
   "metadata": {},
   "source": [
    "## Hangman Code\n"
   ]
  },
  {
   "cell_type": "code",
   "execution_count": 3,
   "metadata": {},
   "outputs": [],
   "source": [
    "from random import choice\n",
    "\n",
    "def run_hangman_game():\n",
    "    #Create the Hangman game word list\n",
    "    word: str = choice([\n",
    "    \"Elephant\",\n",
    "    \"Computer\",\n",
    "    \"Sunshine\",\n",
    "    \"Chocolate\",\n",
    "    \"Adventure\",\n",
    "    \"Mystery\",\n",
    "    \"Butterfly\",\n",
    "    \"Vacation\",\n",
    "    \"Fireworks\",\n",
    "    \"Kangaroo\",\n",
    "    \"Symphony\",\n",
    "    \"Jigsaw\",\n",
    "    \"Exquisite\",\n",
    "    \"Rainbow\",\n",
    "    \"Treasure\",\n",
    "    \"Enchantment\",\n",
    "    \"Galaxy\",\n",
    "    \"Quicksilver\",\n",
    "    \"Whimsical\",\n",
    "    \"Sizzling\"])\n",
    "\n",
    "    #Create the Hangman game variables - names and print statements\n",
    "    username: str = input(\"Please enter your name:  \")\n",
    "    print(f\"Hello {username}! Welcome to Hangman!\")\n",
    "\n",
    "    #Create the Hangman game variables - game variables\n",
    "    guesses: str = \"\"\n",
    "    tries: int = 5\n",
    "\n",
    "    #Create the Hangman game while loop\n",
    "    while tries > 0:\n",
    "        blanks: int = 0\n",
    "\n",
    "        print(\"Word:  \", end=\" \")\n",
    "\n",
    "\n",
    "        for char in word:\n",
    "            if char in guesses:\n",
    "                print(char, end=\"\")\n",
    "            else:\n",
    "                print(\"_\", end=\" \")\n",
    "                blanks += 1 # When there are no blanks left user will have won the game\n",
    "\n",
    "    #adds a blank line - add some empty space to the output\n",
    "        print()\n",
    "\n",
    "        if blanks == 0:\n",
    "            print(f\"\\n\\nCongratulations {username}! You won!\")\n",
    "            break\n",
    "\n",
    "        guess: str = input(\"\\n\\nGuess a letter: \")\n",
    "        \n",
    "        if guess in guesses:\n",
    "            print(f\"\\n\\nYou already guessed {guess}. Please use another letter!\")\n",
    "            continue\n",
    "            \n",
    "        guesses += guess\n",
    "        \n",
    "        if guess not in word:\n",
    "            tries -= 1\n",
    "            print(f\"\\n\\nIm sorry that is incorrect! You have {tries} tries left!\")\n",
    "                \n",
    "            if tries == 0:\n",
    "                print(f\"\\n\\nSorry {username}, you lost! The word was {word}!\")"
   ]
  },
  {
   "cell_type": "code",
   "execution_count": 4,
   "metadata": {},
   "outputs": [
    {
     "name": "stdout",
     "output_type": "stream",
     "text": [
      "Hello Sherhone! Welcome to Hangman!\n",
      "Word:   _ _ _ _ _ _ _ _ \n",
      "Word:   _ _ _ s_ _ _ _ \n",
      "\n",
      "\n",
      "You already guessed s. Please use another letter!\n",
      "Word:   _ _ _ s_ _ _ _ \n",
      "Word:   _ _ _ sh_ _ _ \n",
      "Word:   _ _ _ shi_ _ \n",
      "Word:   _ _ nshin_ \n",
      "\n",
      "\n",
      "You already guessed . Please use another letter!\n",
      "Word:   _ _ nshin_ \n",
      "Word:   Sunshin_ \n",
      "Word:   Sunshine\n",
      "\n",
      "\n",
      "Congratulations Sherhone! You won!\n"
     ]
    }
   ],
   "source": [
    "if __name__ == \"__main__\":\n",
    "    run_hangman_game()"
   ]
  },
  {
   "cell_type": "code",
   "execution_count": null,
   "metadata": {},
   "outputs": [],
   "source": []
  }
 ],
 "metadata": {
  "kernelspec": {
   "display_name": "Python 3",
   "language": "python",
   "name": "python3"
  },
  "language_info": {
   "codemirror_mode": {
    "name": "ipython",
    "version": 3
   },
   "file_extension": ".py",
   "mimetype": "text/x-python",
   "name": "python",
   "nbconvert_exporter": "python",
   "pygments_lexer": "ipython3",
   "version": "3.9.4"
  }
 },
 "nbformat": 4,
 "nbformat_minor": 2
}
