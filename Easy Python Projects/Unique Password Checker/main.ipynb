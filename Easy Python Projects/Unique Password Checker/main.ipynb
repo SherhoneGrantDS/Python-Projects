{
 "cells": [
  {
   "cell_type": "markdown",
   "metadata": {},
   "source": [
    "# 🛡️ Unique Password Checker Project 🛡️\n",
    "\n",
    "## Introduction\n",
    "The Unique Password Checker project is a Python script designed to check if a password is unique compared to a list of common passwords. It aims to improve security by identifying passwords that are commonly used and therefore more vulnerable to attacks.\n",
    "\n",
    "## Features\n",
    "- Checks if a password is unique compared to a predefined list of common passwords.\n",
    "- Provides feedback on whether the password is considered safe or not.\n",
    "- Offers suggestions for creating stronger passwords if the input password is found to be common.\n",
    "\n",
    "## How it Works\n",
    "1. 🖥️ The user inputs a password to be checked.\n",
    "2. 🛡️ The script compares the input password against a list of common passwords.\n",
    "3. 📋 If the input password is found in the list of common passwords, the script notifies the user and provides suggestions for creating a stronger password.\n",
    "4. ✅ If the input password is not found in the list of common passwords, the script confirms that the password is unique and safe to use.\n",
    "\n",
    "## Technologies Used\n",
    "- 🐍 Python: The project is implemented in Python programming language, making use of its string manipulation and file handling capabilities.\n",
    "- 📄 Text File: A text file containing a list of common passwords is used as a reference for comparison.\n",
    "\n",
    "## Usage\n",
    "To use the Unique Password Checker project:\n",
    "1. 📥 Download or clone the project repository to your local machine.\n",
    "2. ⚙️ Ensure you have Python installed on your machine.\n",
    "3. ▶️ Run the Python script `unique_password_checker.py`.\n",
    "4. 🔄 Follow the on-screen prompts to input a password for checking.\n",
    "5. 📢 Receive feedback on the uniqueness and strength of the password.\n",
    "\n",
    "## Example\n",
    "Here's an example of how the Unique Password Checker project can be used:\n",
    "\n",
    "```\n",
    "$ python unique_password_checker.py\n",
    "Enter a Password: password123\n",
    "The password 'password123' is not unique and is commonly used.\n",
    "Consider choosing a stronger password to improve security.\n",
    "```\n",
    "\n",
    "## Contribution\n",
    "Contributions to the Unique Password Checker project are welcome! If you have ideas for new features, improvements, or bug fixes, feel free to fork the repository, make your changes, and submit a pull request.\n",
    "\n",
    "## License\n",
    "This project is licensed under the MIT License - see the [LICENSE](LICENSE) file for details.\n",
    "\n",
    "---\n",
    "\n",
    "By implementing the Unique Password Checker project, users can enhance their security practices by avoiding commonly used passwords and opting for stronger alternatives."
   ]
  },
  {
   "cell_type": "code",
   "execution_count": 7,
   "metadata": {},
   "outputs": [],
   "source": [
    "def check_password(password:str):\n",
    "    with open(\"passwords.text\", \"r\") as file:\n",
    "        common_passwords = file.read().splitlines()\n",
    "        # Print(common_passwords)#\n",
    "\n",
    "    for i , common_password in enumerate(common_passwords, start=1):\n",
    "         if password == common_password:\n",
    "             print(f\"{password}: Password is common (#{i})\")\n",
    "             return\n",
    "         \n",
    "    print(f\"{password}: Password is not common\")\n",
    "\n",
    "def main():\n",
    "    user_password: str = input('Enter a Password: ')\n",
    "    check_password(user_password)\n",
    "\n"
   ]
  },
  {
   "cell_type": "code",
   "execution_count": 8,
   "metadata": {},
   "outputs": [
    {
     "name": "stdout",
     "output_type": "stream",
     "text": [
      "helloworld: Password is not common\n"
     ]
    }
   ],
   "source": [
    "if __name__ == \"__main__\":\n",
    "    main()"
   ]
  }
 ],
 "metadata": {
  "kernelspec": {
   "display_name": "base",
   "language": "python",
   "name": "python3"
  },
  "language_info": {
   "codemirror_mode": {
    "name": "ipython",
    "version": 3
   },
   "file_extension": ".py",
   "mimetype": "text/x-python",
   "name": "python",
   "nbconvert_exporter": "python",
   "pygments_lexer": "ipython3",
   "version": "3.8.5"
  }
 },
 "nbformat": 4,
 "nbformat_minor": 2
}
