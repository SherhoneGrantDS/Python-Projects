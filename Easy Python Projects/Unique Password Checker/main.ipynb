{
 "cells": [
  {
   "cell_type": "code",
   "execution_count": 7,
   "metadata": {},
   "outputs": [],
   "source": [
    "def check_password(password:str):\n",
    "    with open(\"passwords.text\", \"r\") as file:\n",
    "        common_passwords = file.read().splitlines()\n",
    "        # Print(common_passwords)#\n",
    "\n",
    "    for i , common_password in enumerate(common_passwords, start=1):\n",
    "         if password == common_password:\n",
    "             print(f\"{password}: Password is common (#{i})\")\n",
    "             return\n",
    "         \n",
    "    print(f\"{password}: Password is not common\")\n",
    "\n",
    "def main():\n",
    "    user_password: str = input('Enter a Password: ')\n",
    "    check_password(user_password)\n",
    "\n"
   ]
  },
  {
   "cell_type": "code",
   "execution_count": 8,
   "metadata": {},
   "outputs": [
    {
     "name": "stdout",
     "output_type": "stream",
     "text": [
      "helloworld: Password is not common\n"
     ]
    }
   ],
   "source": [
    "if __name__ == \"__main__\":\n",
    "    main()"
   ]
  }
 ],
 "metadata": {
  "kernelspec": {
   "display_name": "base",
   "language": "python",
   "name": "python3"
  },
  "language_info": {
   "codemirror_mode": {
    "name": "ipython",
    "version": 3
   },
   "file_extension": ".py",
   "mimetype": "text/x-python",
   "name": "python",
   "nbconvert_exporter": "python",
   "pygments_lexer": "ipython3",
   "version": "3.8.5"
  }
 },
 "nbformat": 4,
 "nbformat_minor": 2
}
