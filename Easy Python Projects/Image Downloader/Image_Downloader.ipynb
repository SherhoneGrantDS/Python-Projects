{
 "cells": [
  {
   "cell_type": "code",
   "execution_count": 4,
   "metadata": {},
   "outputs": [],
   "source": [
    "from typing import Union"
   ]
  },
  {
   "cell_type": "code",
   "execution_count": 9,
   "metadata": {},
   "outputs": [
    {
     "name": "stdout",
     "output_type": "stream",
     "text": [
      "Downloading...\n",
      "Downloaded: kgk.jpg Successfully!\n"
     ]
    }
   ],
   "source": [
    "from typing import Union\n",
    "import os\n",
    "import requests\n",
    "\n",
    "def get_extension(image_url: str) -> Union[str, None]:\n",
    "    extensions = ['jpg', 'jpeg', 'png', 'gif', 'bmp', 'svg', 'webp']\n",
    "    for ext in extensions:\n",
    "        if ext in image_url:\n",
    "            return ext\n",
    "    return None\n",
    "\n",
    "def download_image(image_url: str, name: str, folder: str = None): \n",
    "    ext = get_extension(image_url)\n",
    "    if ext:\n",
    "        if folder:\n",
    "            image_name = f'{folder}/{name}.{ext}'\n",
    "        else:\n",
    "            image_name = f'{name}.{ext}'\n",
    "    else:\n",
    "        print('Unable to determine file extension for the provided URL.')\n",
    "        return\n",
    "    \n",
    "    if os.path.isfile(image_name):\n",
    "        print(f'{image_name} already exists')\n",
    "        return\n",
    "    \n",
    "    print('Downloading...')\n",
    "    try:\n",
    "        image_content = requests.get(image_url).content\n",
    "        with open(image_name, 'wb') as image_file:\n",
    "            image_file.write(image_content)\n",
    "        print(f'Downloaded: {image_name} Successfully!')\n",
    "    except Exception as e:\n",
    "        print(f'Failed to download {image_name} - {e}')\n",
    "\n",
    "if __name__ == '__main__':\n",
    "    input_url = str(input('Enter the image URL: '))\n",
    "    input_name = input('What would you like to name the image?: ')\n",
    "\n",
    "    download_image(input_url, name=input_name)\n"
   ]
  }
 ],
 "metadata": {
  "kernelspec": {
   "display_name": "base",
   "language": "python",
   "name": "python3"
  },
  "language_info": {
   "codemirror_mode": {
    "name": "ipython",
    "version": 3
   },
   "file_extension": ".py",
   "mimetype": "text/x-python",
   "name": "python",
   "nbconvert_exporter": "python",
   "pygments_lexer": "ipython3",
   "version": "3.8.5"
  }
 },
 "nbformat": 4,
 "nbformat_minor": 2
}
