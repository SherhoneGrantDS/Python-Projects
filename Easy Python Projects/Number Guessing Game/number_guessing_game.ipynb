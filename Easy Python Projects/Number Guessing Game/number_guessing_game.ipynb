{
 "cells": [
  {
   "cell_type": "markdown",
   "metadata": {},
   "source": [
    "\n",
    "# Guess that Number! Number Guessing Game in Python 🎲🤔\n",
    "\n",
    "Welcome to the Number Guessing Game, where excitement and mystery collide! Get ready for a thrilling journey to test your guessing skills. 🚀\n",
    "\n",
    "## How to Play\n",
    "\n",
    "1. **Start:** Run the code cell below to initiate the Number Guessing Game.\n",
    "2. **Objective:** Your mission, should you choose to accept it, is to guess the secret number.\n",
    "3. **Feedback:** Receive hints after each guess - whether the secret number is higher or lower.\n",
    "4. **Challenges:** The clock is ticking! Can you guess the number within the given attempts?\n",
    "5. **Victory:** Celebrate in triumph if you guess the secret number!\n",
    "\n",
    "\n",
    "\n"
   ]
  },
  {
   "cell_type": "markdown",
   "metadata": {},
   "source": [
    "## Number Guessing Code"
   ]
  },
  {
   "cell_type": "code",
   "execution_count": 3,
   "metadata": {},
   "outputs": [
    {
     "name": "stdout",
     "output_type": "stream",
     "text": [
      "Guess the number in the range from 1 to 100.\n",
      "Your guess is too low!\n",
      "Your guess is too high!\n",
      "Your guess is too low!\n",
      "Your guess is too low!\n",
      "Your guess is too low!\n",
      "Sorry, you ran out of tries. The correct number was 76.\n"
     ]
    }
   ],
   "source": [
    "from random import randint\n",
    "\n",
    "# Set the number parameters\n",
    "lower_number, higher_number = 1, 100\n",
    "\n",
    "# Set the random integer\n",
    "random_number = randint(lower_number, higher_number)\n",
    "print(f'Guess the number in the range from {lower_number} to {higher_number}.')\n",
    "\n",
    "# Set the maximum number of tries\n",
    "max_tries = 5\n",
    "tries = 0\n",
    "\n",
    "while tries < max_tries:\n",
    "    try:\n",
    "        # Get the user input\n",
    "        user_guess = int(input('Enter your guess: '))\n",
    "    except ValueError as e:\n",
    "        print('Please enter a valid integer between 1 and 100!')\n",
    "        continue\n",
    "\n",
    "    # Check the user input\n",
    "    if user_guess == random_number:\n",
    "        print('You guessed the number correctly!')\n",
    "        break\n",
    "    elif user_guess > random_number:\n",
    "        print('Your guess is too high!')\n",
    "    else:\n",
    "        print('Your guess is too low!')\n",
    "\n",
    "    # Increment the try counter\n",
    "    tries += 1\n",
    "\n",
    "# Inform the user if they didn't guess the number in the allowed number of tries\n",
    "if tries == max_tries:\n",
    "    print(f'Sorry, you ran out of tries. The correct number was {random_number}.')\n",
    "\n",
    "\n"
   ]
  }
 ],
 "metadata": {
  "kernelspec": {
   "display_name": "base",
   "language": "python",
   "name": "python3"
  },
  "language_info": {
   "codemirror_mode": {
    "name": "ipython",
    "version": 3
   },
   "file_extension": ".py",
   "mimetype": "text/x-python",
   "name": "python",
   "nbconvert_exporter": "python",
   "pygments_lexer": "ipython3",
   "version": "3.8.5"
  }
 },
 "nbformat": 4,
 "nbformat_minor": 2
}
