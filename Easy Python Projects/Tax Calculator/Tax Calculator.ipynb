{
 "cells": [
  {
   "cell_type": "code",
   "execution_count": 4,
   "metadata": {},
   "outputs": [],
   "source": [
    "import tkinter as tk\n",
    "import customtkinter as ctk"
   ]
  },
  {
   "cell_type": "code",
   "execution_count": 6,
   "metadata": {},
   "outputs": [],
   "source": [
    "class TaxCalculator:\n",
    "    def __init__(self):\n",
    "        # Initialize the main window\n",
    "        self.window = ctk.CTk()\n",
    "        self.window.title(\"Tax Calculator\")\n",
    "        self.window.geometry(\"300x200\")\n",
    "        self.window.resizable(False, False)\n",
    "\n",
    "        # Intialize the variables in the program\n",
    "        self.padding = {\"padx\": 20, \"pady\": 20}\n",
    "\n",
    "        # Create Labels for income\n",
    "        self.income_label = ctk.CTkLabel(self.window, text=\"Income:\")\n",
    "        self.income_label.grid(row=0, column=0, **self.padding)\n",
    "        self.income_entry = ctk.CTkEntry(self.window)\n",
    "        self.income_entry.grid(row=0, column=1, **self.padding)\n",
    "        self.income_entry.bind(\"<FocusOut>\", self.calculate_tax)  # Calculate tax when focus leaves income entry\n",
    "\n",
    "        # Create Labels for tax\n",
    "        self.tax_rate_label = ctk.CTkLabel(self.window, text=\"Percent:\")\n",
    "        self.tax_rate_label.grid(row=1, column=0, **self.padding)\n",
    "        self.tax_rate_entry = ctk.CTkEntry(self.window)\n",
    "        self.tax_rate_entry.grid(row=1, column=1, **self.padding)\n",
    "        self.tax_rate_entry.bind(\"<FocusOut>\", self.calculate_tax)  # Calculate tax when focus leaves tax rate entry\n",
    "\n",
    "        # Create Labels for tax\n",
    "        self.result_label = ctk.CTkLabel(self.window, text=\"Tax:\")\n",
    "        self.result_label.grid(row=2, column=0, **self.padding)\n",
    "        self.result_entry = ctk.CTkEntry(self.window)\n",
    "        self.result_entry.insert(0,'0')\n",
    "        self.result_entry.grid(row=2, column=1, **self.padding)\n",
    "\n",
    "    def update_result(self, text: str):\n",
    "        self.result_entry.delete(0, ctk.END)\n",
    "        self.result_entry.insert(0, text)\n",
    "\n",
    "    def calculate_tax(self, event=None):\n",
    "        try:\n",
    "            income = float(self.income_entry.get())\n",
    "            tax_rate = float(self.tax_rate_entry.get())\n",
    "            self.update_result(f'${income * (tax_rate / 100):,.2f}')\n",
    "\n",
    "        except ValueError:\n",
    "            self.update_result(\"Invalid Input\")\n",
    "\n",
    "    def run(self):\n",
    "        self.window.mainloop()\n",
    "\n",
    "if __name__ == \"__main__\":\n",
    "    tc = TaxCalculator()\n",
    "    tc.run()\n"
   ]
  }
 ],
 "metadata": {
  "kernelspec": {
   "display_name": "base",
   "language": "python",
   "name": "python3"
  },
  "language_info": {
   "codemirror_mode": {
    "name": "ipython",
    "version": 3
   },
   "file_extension": ".py",
   "mimetype": "text/x-python",
   "name": "python",
   "nbconvert_exporter": "python",
   "pygments_lexer": "ipython3",
   "version": "3.8.5"
  }
 },
 "nbformat": 4,
 "nbformat_minor": 2
}
