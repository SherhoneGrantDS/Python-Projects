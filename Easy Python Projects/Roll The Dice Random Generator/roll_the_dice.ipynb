{
 "cells": [
  {
   "cell_type": "markdown",
   "metadata": {},
   "source": [
    "# Roll the Dice Python Project 🎲🚀\n",
    "\n",
    "Welcome to the Roll the Dice Python Project, where luck is on your side, and every roll brings anticipation and excitement! 🎉\n",
    "\n",
    "## How to Play\n",
    "\n",
    "1. **Start:** Run the code cell below to kick off the Roll the Dice experience.\n",
    "2. **Roll:** Witness the magic as virtual dice are cast with each execution of the code.\n",
    "3. **Results:** Discover the outcome of your roll, with a random number generated just for you.\n",
    "4. **Repeat:** Feel free to roll the dice as many times as you want and embrace the unpredictability!\n",
    "\n",
    "\n"
   ]
  },
  {
   "cell_type": "markdown",
   "metadata": {},
   "source": [
    "## Roll the Dice Code\n"
   ]
  },
  {
   "cell_type": "code",
   "execution_count": 1,
   "metadata": {},
   "outputs": [
    {
     "name": "stdout",
     "output_type": "stream",
     "text": [
      "Please enter a valid number\n",
      "1, 1, 1, 6, 3, 6, 1, 6\n"
     ]
    }
   ],
   "source": [
    "# Define the roll dice function\n",
    "import random\n",
    "\n",
    "def roll_dice(amount: int = 2) -> list[int]:\n",
    "    \"\"\"\n",
    "    Roll dice and return the result\n",
    "    :param amount: The amount of dice to roll\n",
    "    :return: The result of the dice roll\n",
    "    \"\"\"\n",
    "\n",
    "    if amount < 0:\n",
    "        raise ValueError(\"Must roll at least one die\")\n",
    "    rolls: list[int] = []\n",
    "    for i in range(amount):\n",
    "        random_roll: int = random.randint(1, 6)\n",
    "        rolls.append(random_roll)\n",
    "        # total += random.randint(1, 6)\n",
    "    return rolls\n",
    "\n",
    "\n",
    "\n",
    "def main():\n",
    "    \"\"\"\n",
    "    Test function\n",
    "    :return: None\n",
    "    \"\"\"\n",
    "    while True:\n",
    "        try:\n",
    "            user_input: str = input(\"How many dice would you like to roll? \")\n",
    "            \n",
    "            if user_input.lower() == 'exit':    \n",
    "                print('Thanks for rolling!')\n",
    "                break\n",
    "\n",
    "            print(*roll_dice(int(user_input)), sep=', ') # added the asterisk to remove the brackets from the list\n",
    "\n",
    "        except ValueError:\n",
    "            print(\"Please enter a valid number\")\n",
    "\n",
    "if __name__ == \"__main__\":\n",
    "    main()\n",
    "    exit(0)"
   ]
  }
 ],
 "metadata": {
  "kernelspec": {
   "display_name": "Python 3",
   "language": "python",
   "name": "python3"
  },
  "language_info": {
   "codemirror_mode": {
    "name": "ipython",
    "version": 3
   },
   "file_extension": ".py",
   "mimetype": "text/x-python",
   "name": "python",
   "nbconvert_exporter": "python",
   "pygments_lexer": "ipython3",
   "version": "3.9.4"
  }
 },
 "nbformat": 4,
 "nbformat_minor": 2
}
