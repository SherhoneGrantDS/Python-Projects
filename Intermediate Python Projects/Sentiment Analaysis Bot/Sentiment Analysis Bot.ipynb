{
 "cells": [
  {
   "cell_type": "code",
   "execution_count": 4,
   "metadata": {},
   "outputs": [],
   "source": [
    "from textblob import TextBlob\n",
    "from dataclasses import dataclass\n"
   ]
  },
  {
   "cell_type": "code",
   "execution_count": 7,
   "metadata": {},
   "outputs": [
    {
     "name": "stdout",
     "output_type": "stream",
     "text": [
      "Enter some text to get a sentiment analysis back, I'm a bot that can analyze your mood.\n",
      "I see you're feeling 😠 (-0.5)\n",
      "I see you're feeling 😄 (0.8)\n",
      "I see you're feeling 😄 (0.5)\n",
      "I see you're feeling 😐 (0.0)\n",
      "I see you're feeling 😐 (0.0)\n",
      "I see you're feeling 😐 (0.0)\n",
      "I see you're feeling 😐 (0.0)\n",
      "I see you're feeling 😐 (0.0)\n",
      "I see you're feeling 😄 (0.85)\n",
      "I see you're feeling 😄 (0.6000000000000001)\n",
      "I see you're feeling 😐 (0.0)\n",
      "I see you're feeling 😐 (0.0)\n",
      "I see you're feeling 😐 (0.0)\n",
      "I see you're feeling 😐 (0.0)\n",
      "I see you're feeling 😐 (0.0)\n",
      "I see you're feeling 😐 (0.0)\n",
      "I see you're feeling 😐 (0.0)\n",
      "I see you're feeling 😐 (0.0)\n",
      "I see you're feeling 😐 (0.0)\n",
      "I see you're feeling 😐 (0.0)\n",
      "I see you're feeling 😐 (0.0)\n"
     ]
    }
   ],
   "source": [
    "@dataclass\n",
    "\n",
    "class Mood:\n",
    "    emoji: str\n",
    "    sentiment: float\n",
    "\n",
    "def get_mood(input_text: str, *, sensitivity:float) -> Mood:\n",
    "    polarity: float = TextBlob(input_text).sentiment.polarity\n",
    "    \n",
    "    friendly_threshold: float = sensitivity\n",
    "    hostile_threshold: float = -sensitivity\n",
    "    \n",
    "    if polarity >= friendly_threshold:\n",
    "        return Mood(\"😄\", polarity)\n",
    "    elif polarity <= hostile_threshold:\n",
    "        return Mood(\"😠\", polarity)\n",
    "    else:\n",
    "        return Mood(\"😐\", polarity)\n",
    "                    \n",
    "def run_bot():\n",
    "    print(\"Enter some text to get a sentiment analysis back, I'm a bot that can analyze your mood.\")\n",
    "    while True:\n",
    "        user_input = input(\"How are you feeling today? \")\n",
    "        mood: Mood = get_mood(user_input, sensitivity=0.3)\n",
    "        print(f\"I see you're feeling {mood.emoji} ({mood.sentiment})\")\n",
    "\n",
    "if __name__ == \"__main__\":  \n",
    "    run_bot()\n"
   ]
  }
 ],
 "metadata": {
  "kernelspec": {
   "display_name": "base",
   "language": "python",
   "name": "python3"
  },
  "language_info": {
   "codemirror_mode": {
    "name": "ipython",
    "version": 3
   },
   "file_extension": ".py",
   "mimetype": "text/x-python",
   "name": "python",
   "nbconvert_exporter": "python",
   "pygments_lexer": "ipython3",
   "version": "3.8.5"
  }
 },
 "nbformat": 4,
 "nbformat_minor": 2
}
