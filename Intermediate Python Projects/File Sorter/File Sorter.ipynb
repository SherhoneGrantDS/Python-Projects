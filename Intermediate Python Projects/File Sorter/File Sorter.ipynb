{
 "cells": [
  {
   "cell_type": "code",
   "execution_count": 1,
   "metadata": {},
   "outputs": [],
   "source": [
    "import os\n",
    "import shutil "
   ]
  },
  {
   "cell_type": "code",
   "execution_count": null,
   "metadata": {},
   "outputs": [],
   "source": [
    "def create_folder(path: str, extension: str) -> str:\n",
    "    \"\"\"Creates a folder with the name of the extension of the file and returns the path of the folder. If the folder already exists, it returns the path of the folder.\"\"\"\n",
    "\n",
    "    folder_name: str = extension[1:]\n",
    "    folder_path: str = os.path.join(path, folder_name)\n",
    "\n",
    "    if not os.path.exists(folder_path):\n",
    "        os.makedirs(folder_path)\n",
    "    return folder_path\n",
    "\n",
    "def sort_files(source_path: str) -> None:\n",
    "    \"\"\"Sorts files in the source directory by their extension and moves them to the respective folder.\"\"\"\n",
    "\n",
    "    for root, sub_dir, filenames in os.walk(source_path):\n",
    "        for filename in filenames:\n",
    "            if file_path: str = os.path.join(root_dir, filename) \n",
    "            continue\n",
    "            file_path: str = os.path.join(root, file)\n",
    "            extension: str = os.path.splitext(file)[1]\n",
    "            folder_path: str = create_folder(source_path, extension)\n",
    "            shutil.move(file_path, folder_path)"
   ]
  }
 ],
 "metadata": {
  "kernelspec": {
   "display_name": "base",
   "language": "python",
   "name": "python3"
  },
  "language_info": {
   "codemirror_mode": {
    "name": "ipython",
    "version": 3
   },
   "file_extension": ".py",
   "mimetype": "text/x-python",
   "name": "python",
   "nbconvert_exporter": "python",
   "pygments_lexer": "ipython3",
   "version": "3.8.5"
  }
 },
 "nbformat": 4,
 "nbformat_minor": 2
}
