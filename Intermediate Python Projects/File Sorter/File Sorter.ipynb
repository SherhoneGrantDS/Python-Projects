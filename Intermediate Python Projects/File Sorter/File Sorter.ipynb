{
 "cells": [
  {
   "cell_type": "code",
   "execution_count": 2,
   "metadata": {},
   "outputs": [],
   "source": [
    "import os\n",
    "import shutil "
   ]
  },
  {
   "cell_type": "code",
   "execution_count": 3,
   "metadata": {},
   "outputs": [
    {
     "name": "stdout",
     "output_type": "stream",
     "text": [
      "Invalid path. Please enter a valid path.\n"
     ]
    }
   ],
   "source": [
    "def create_folder(path: str, extension: str) -> str:\n",
    "    \"\"\"Creates a folder with the name of the extension of the file and returns the path of the folder. If the folder already exists, it returns the path of the folder.\"\"\"\n",
    "\n",
    "    folder_name: str = extension[1:]\n",
    "    folder_path: str = os.path.join(path, folder_name)\n",
    "\n",
    "    if not os.path.exists(folder_path):\n",
    "        os.makedirs(folder_path)\n",
    "    return folder_path\n",
    "\n",
    "def sort_files(source_path: str) -> None:\n",
    "    \"\"\"Sorts files in the source directory by their extension and moves them to the respective folder.\"\"\"\n",
    "\n",
    "    for root, sub_dir, filenames in os.walk(source_path):\n",
    "        for filename in filenames:\n",
    "            file_path: str = os.path.join(root_dir, filename)  # type: ignore\n",
    "            extension: str = os.path.splitext(filename)[1]\n",
    "            \n",
    "            if extension: \n",
    "                target_folder: str = create_folder(source_path, extension)\n",
    "                target_path: str = os.path.join(target_folder, filename)\n",
    "                \n",
    "                shutil.move(file_path, target_path)\n",
    "\n",
    "def remove_empty_folders(source_path: str):\n",
    "    \"\"\"Removes empty folders in the source directory.\"\"\"\n",
    "\n",
    "    for root, sub_dir, filenames in os.walk(source_path, topdown=False):\n",
    "        for current_dir in sub_dir:\n",
    "            folder_path: str = os.path.join(root, current_dir)\n",
    "            \n",
    "            if not os.listdir(folder_path):\n",
    "                os.rmdir(folder_path)\n",
    "\n",
    "def main():\n",
    "    user_input: str = input(\"Enter the path of the source directory: \")\n",
    "   \n",
    "    if os.path.exists(user_input):\n",
    "        sort_files(user_input)\n",
    "        remove_empty_folders(user_input)    \n",
    "        print(\"Files have been sorted successfully.\")\n",
    "    else:   \n",
    "        print(\"Invalid path. Please enter a valid path.\")\n",
    "\n",
    "\n",
    "if __name__ == \"__main__\":\n",
    "    main()\n",
    "\n"
   ]
  },
  {
   "cell_type": "code",
   "execution_count": null,
   "metadata": {},
   "outputs": [],
   "source": []
  }
 ],
 "metadata": {
  "kernelspec": {
   "display_name": "base",
   "language": "python",
   "name": "python3"
  },
  "language_info": {
   "codemirror_mode": {
    "name": "ipython",
    "version": 3
   },
   "file_extension": ".py",
   "mimetype": "text/x-python",
   "name": "python",
   "nbconvert_exporter": "python",
   "pygments_lexer": "ipython3",
   "version": "3.8.5"
  }
 },
 "nbformat": 4,
 "nbformat_minor": 2
}
